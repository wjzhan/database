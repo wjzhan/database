{
 "cells": [
  {
   "cell_type": "markdown",
   "id": "adolescent-profile",
   "metadata": {},
   "source": [
    "\n",
    "<pre><code>\n",
    "\n",
    "Table: Logs\n",
    "\n",
    "+-------------+---------+\n",
    "| Column Name | Type    |\n",
    "+-------------+---------+\n",
    "| id          | int     |\n",
    "| num         | varchar |\n",
    "+-------------+---------+\n",
    "id is the primary key for this table.\n",
    " \n",
    "\n",
    "Write an SQL query to find all numbers that appear at least three times consecutively.\n",
    "\n",
    "Return the result table in any order.\n",
    "\n",
    "The query result format is in the following example:\n",
    "\n",
    " \n",
    "\n",
    "Logs table:\n",
    "+----+-----+\n",
    "| Id | Num |\n",
    "+----+-----+\n",
    "| 1  | 1   |\n",
    "| 2  | 1   |\n",
    "| 3  | 1   |\n",
    "| 4  | 2   |\n",
    "| 5  | 1   |\n",
    "| 6  | 2   |\n",
    "| 7  | 2   |\n",
    "+----+-----+\n",
    "\n",
    "Result table:\n",
    "+-----------------+\n",
    "| ConsecutiveNums |\n",
    "+-----------------+\n",
    "| 1               |\n",
    "+-----------------+\n",
    "1 is the only number that appears consecutively for at least three times.\n",
    "\n",
    "\n",
    "Create table If Not Exists Logs (Id int, Num int)\n",
    "Truncate table Logs\n",
    "insert into Logs (Id, Num) values ('1', '1')\n",
    "insert into Logs (Id, Num) values ('2', '1')\n",
    "insert into Logs (Id, Num) values ('3', '1')\n",
    "insert into Logs (Id, Num) values ('4', '2')\n",
    "insert into Logs (Id, Num) values ('5', '1')\n",
    "insert into Logs (Id, Num) values ('6', '2')\n",
    "insert into Logs (Id, Num) values ('7', '2')\n",
    "</code></pre>"
   ]
  },
  {
   "cell_type": "markdown",
   "id": "decent-donna",
   "metadata": {},
   "source": [
    "## Answer\n",
    "<pre><code>\n",
    "\n",
    "with A as (\n",
    "    select num,\n",
    "    lead(num, 1) over(order by id) as num1,\n",
    "    lead(num, 2) over(order by id) as num2\n",
    "    from Logs\n",
    ")\n",
    "select distinct num as ConsecutiveNums from A where num=num1 and num=num2 and num1=num2\n",
    "\n",
    "</code></pre>"
   ]
  },
  {
   "cell_type": "code",
   "execution_count": null,
   "id": "provincial-glasgow",
   "metadata": {},
   "outputs": [],
   "source": []
  }
 ],
 "metadata": {
  "kernelspec": {
   "display_name": "Python 3",
   "language": "python",
   "name": "python3"
  },
  "language_info": {
   "codemirror_mode": {
    "name": "ipython",
    "version": 3
   },
   "file_extension": ".py",
   "mimetype": "text/x-python",
   "name": "python",
   "nbconvert_exporter": "python",
   "pygments_lexer": "ipython3",
   "version": "3.8.5"
  }
 },
 "nbformat": 4,
 "nbformat_minor": 5
}
