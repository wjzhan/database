{
 "cells": [
  {
   "cell_type": "markdown",
   "id": "medieval-edwards",
   "metadata": {},
   "source": [
    "<pre><code>\n",
    "\n",
    "Write a SQL query to get the second highest salary from the Employee table.\n",
    "\n",
    "+----+--------+\n",
    "| Id | Salary |\n",
    "+----+--------+\n",
    "| 1  | 100    |\n",
    "| 2  | 200    |\n",
    "| 3  | 300    |\n",
    "+----+--------+\n",
    "For example, given the above Employee table, the query should return 200 as the second highest salary. If there is no second highest salary, then the query should return null.\n",
    "\n",
    "+---------------------+\n",
    "| SecondHighestSalary |\n",
    "+---------------------+\n",
    "| 200                 |\n",
    "+---------------------+\n",
    "\n",
    "\n",
    "Create table If Not Exists Employee (Id int, Salary int)\n",
    "Truncate table Employee\n",
    "insert into Employee (Id, Salary) values ('1', '100')\n",
    "insert into Employee (Id, Salary) values ('2', '200')\n",
    "insert into Employee (Id, Salary) values ('3', '300')\n",
    "\n",
    "</code></pre>"
   ]
  },
  {
   "cell_type": "markdown",
   "id": "shaped-graduation",
   "metadata": {},
   "source": [
    "## Answer\n",
    "<pre><code>\n",
    "\n",
    "select \n",
    "(case when max(rnk) = 1 then null else Salary end) as SecondHighestSalary \n",
    "from \n",
    "(select Salary, dense_rank() over(order by Salary desc) as rnk from Employee) A \n",
    "where A.rnk=2\n",
    "\n",
    "</code></pre>"
   ]
  },
  {
   "cell_type": "code",
   "execution_count": null,
   "id": "general-disaster",
   "metadata": {},
   "outputs": [],
   "source": []
  }
 ],
 "metadata": {
  "kernelspec": {
   "display_name": "Python 3",
   "language": "python",
   "name": "python3"
  },
  "language_info": {
   "codemirror_mode": {
    "name": "ipython",
    "version": 3
   },
   "file_extension": ".py",
   "mimetype": "text/x-python",
   "name": "python",
   "nbconvert_exporter": "python",
   "pygments_lexer": "ipython3",
   "version": "3.8.5"
  }
 },
 "nbformat": 4,
 "nbformat_minor": 5
}
