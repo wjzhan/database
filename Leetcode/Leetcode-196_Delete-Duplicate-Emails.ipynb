{
 "cells": [
  {
   "cell_type": "markdown",
   "id": "enormous-triumph",
   "metadata": {},
   "source": [
    "<pre><code>\n",
    "Write a SQL query to delete all duplicate email entries in a table named Person, keeping only unique emails based on its smallest Id.\n",
    "\n",
    "+----+------------------+\n",
    "| Id | Email            |\n",
    "+----+------------------+\n",
    "| 1  | john@example.com |\n",
    "| 2  | bob@example.com  |\n",
    "| 3  | john@example.com |\n",
    "+----+------------------+\n",
    "Id is the primary key column for this table.\n",
    "For example, after running your query, the above Person table should have the following rows:\n",
    "\n",
    "+----+------------------+\n",
    "| Id | Email            |\n",
    "+----+------------------+\n",
    "| 1  | john@example.com |\n",
    "| 2  | bob@example.com  |\n",
    "+----+------------------+\n",
    "Note:\n",
    "\n",
    "Your output is the whole Person table after executing your sql. Use delete statement.\n",
    "\n",
    "\n",
    "Truncate table Person\n",
    "insert into Person (Id, Email) values ('1', 'john@example.com')\n",
    "insert into Person (Id, Email) values ('2', 'bob@example.com')\n",
    "insert into Person (Id, Email) values ('3', 'john@example.com')\n",
    "</code></pre>"
   ]
  },
  {
   "cell_type": "markdown",
   "id": "cooperative-relay",
   "metadata": {},
   "source": [
    "## Answer\n",
    "<pre><code>\n",
    "\n",
    "with tmp as (select min(Id) as Id, Email from Person group by Email)\n",
    "\n",
    "delete from Person where Id not in (select Id from tmp)\n",
    "\n",
    "\n",
    "</code></pre>"
   ]
  },
  {
   "cell_type": "code",
   "execution_count": null,
   "id": "detailed-score",
   "metadata": {},
   "outputs": [],
   "source": []
  }
 ],
 "metadata": {
  "kernelspec": {
   "display_name": "Python 3",
   "language": "python",
   "name": "python3"
  },
  "language_info": {
   "codemirror_mode": {
    "name": "ipython",
    "version": 3
   },
   "file_extension": ".py",
   "mimetype": "text/x-python",
   "name": "python",
   "nbconvert_exporter": "python",
   "pygments_lexer": "ipython3",
   "version": "3.8.5"
  }
 },
 "nbformat": 4,
 "nbformat_minor": 5
}
