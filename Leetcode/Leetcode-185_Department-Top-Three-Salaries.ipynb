{
 "cells": [
  {
   "cell_type": "markdown",
   "id": "pacific-agenda",
   "metadata": {},
   "source": [
    "\n",
    "<pre><code>\n",
    "The Employee table holds all employees. Every employee has an Id, and there is also a column for the department Id.\n",
    "\n",
    "+----+-------+--------+--------------+\n",
    "| Id | Name  | Salary | DepartmentId |\n",
    "+----+-------+--------+--------------+\n",
    "| 1  | Joe   | 85000  | 1            |\n",
    "| 2  | Henry | 80000  | 2            |\n",
    "| 3  | Sam   | 60000  | 2            |\n",
    "| 4  | Max   | 90000  | 1            |\n",
    "| 5  | Janet | 69000  | 1            |\n",
    "| 6  | Randy | 85000  | 1            |\n",
    "| 7  | Will  | 70000  | 1            |\n",
    "+----+-------+--------+--------------+\n",
    "The Department table holds all departments of the company.\n",
    "\n",
    "+----+----------+\n",
    "| Id | Name     |\n",
    "+----+----------+\n",
    "| 1  | IT       |\n",
    "| 2  | Sales    |\n",
    "+----+----------+\n",
    "Write a SQL query to find employees who earn the top three salaries in each of the department. For the above tables, your SQL query should return the following rows (order of rows does not matter).\n",
    "\n",
    "+------------+----------+--------+\n",
    "| Department | Employee | Salary |\n",
    "+------------+----------+--------+\n",
    "| IT         | Max      | 90000  |\n",
    "| IT         | Randy    | 85000  |\n",
    "| IT         | Joe      | 85000  |\n",
    "| IT         | Will     | 70000  |\n",
    "| Sales      | Henry    | 80000  |\n",
    "| Sales      | Sam      | 60000  |\n",
    "+------------+----------+--------+\n",
    "Explanation:\n",
    "\n",
    "In IT department, Max earns the highest salary, both Randy and Joe earn the second highest salary, and Will earns the third highest salary. There are only two employees in the Sales department, Henry earns the highest salary while Sam earns the second highest salary.\n",
    "\n",
    "\n",
    "\n",
    "\n",
    "Create table If Not Exists Employee (Id int, Name varchar(255), Salary int, DepartmentId int)\n",
    "Create table If Not Exists Department (Id int, Name varchar(255))\n",
    "Truncate table Employee\n",
    "insert into Employee (Id, Name, Salary, DepartmentId) values ('1', 'Joe', '85000', '1')\n",
    "insert into Employee (Id, Name, Salary, DepartmentId) values ('2', 'Henry', '80000', '2')\n",
    "insert into Employee (Id, Name, Salary, DepartmentId) values ('3', 'Sam', '60000', '2')\n",
    "insert into Employee (Id, Name, Salary, DepartmentId) values ('4', 'Max', '90000', '1')\n",
    "insert into Employee (Id, Name, Salary, DepartmentId) values ('5', 'Janet', '69000', '1')\n",
    "insert into Employee (Id, Name, Salary, DepartmentId) values ('6', 'Randy', '85000', '1')\n",
    "insert into Employee (Id, Name, Salary, DepartmentId) values ('7', 'Will', '70000', '1')\n",
    "Truncate table Department\n",
    "insert into Department (Id, Name) values ('1', 'IT')\n",
    "insert into Department (Id, Name) values ('2', 'Sales')\n",
    "</code></pre>"
   ]
  },
  {
   "cell_type": "markdown",
   "id": "golden-spell",
   "metadata": {},
   "source": [
    "## Answer\n",
    "<pre><code>\n",
    "with emp as \n",
    "(select Name, Salary, DepartmentId, dense_rank() over (partition by DepartmentId order by Salary desc) as 'Rank' \n",
    " from Employee)\n",
    "\n",
    "select A.Name as Department, B.Name as Employee, B.Salary as Salary \n",
    "from Department A inner join emp B \n",
    "on B.Rank<=3 and A.Id = B.DepartmentId\n",
    "</code></pre>"
   ]
  },
  {
   "cell_type": "code",
   "execution_count": null,
   "id": "hindu-driver",
   "metadata": {},
   "outputs": [],
   "source": []
  }
 ],
 "metadata": {
  "kernelspec": {
   "display_name": "Python 3",
   "language": "python",
   "name": "python3"
  },
  "language_info": {
   "codemirror_mode": {
    "name": "ipython",
    "version": 3
   },
   "file_extension": ".py",
   "mimetype": "text/x-python",
   "name": "python",
   "nbconvert_exporter": "python",
   "pygments_lexer": "ipython3",
   "version": "3.8.5"
  }
 },
 "nbformat": 4,
 "nbformat_minor": 5
}
