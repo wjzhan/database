{
 "cells": [
  {
   "cell_type": "markdown",
   "id": "usual-toronto",
   "metadata": {},
   "source": [
    "<pre><code>\n",
    "\n",
    "Write a SQL query to rank scores. If there is a tie between two scores, both should have the same ranking. Note that after a tie, the next ranking number should be the next consecutive integer value. In other words, there should be no \"holes\" between ranks.\n",
    "\n",
    "+----+-------+\n",
    "| Id | Score |\n",
    "+----+-------+\n",
    "| 1  | 3.50  |\n",
    "| 2  | 3.65  |\n",
    "| 3  | 4.00  |\n",
    "| 4  | 3.85  |\n",
    "| 5  | 4.00  |\n",
    "| 6  | 3.65  |\n",
    "+----+-------+\n",
    "For example, given the above Scores table, your query should generate the following report (order by highest score):\n",
    "\n",
    "+-------+---------+\n",
    "| score | Rank    |\n",
    "+-------+---------+\n",
    "| 4.00  | 1       |\n",
    "| 4.00  | 1       |\n",
    "| 3.85  | 2       |\n",
    "| 3.65  | 3       |\n",
    "| 3.65  | 3       |\n",
    "| 3.50  | 4       |\n",
    "+-------+---------+\n",
    "Important Note: For MySQL solutions, to escape reserved words used as column names, you can use an apostrophe before and after the keyword. For example `Rank`.\n",
    "\n",
    "\n",
    "Create table If Not Exists Scores (Id int, Score DECIMAL(3,2))\n",
    "Truncate table Scores\n",
    "insert into Scores (Id, Score) values ('1', '3.5')\n",
    "insert into Scores (Id, Score) values ('2', '3.65')\n",
    "insert into Scores (Id, Score) values ('3', '4.0')\n",
    "insert into Scores (Id, Score) values ('4', '3.85')\n",
    "insert into Scores (Id, Score) values ('5', '4.0')\n",
    "insert into Scores (Id, Score) values ('6', '3.65')\n",
    "    \n",
    "    \n",
    "</code></pre>"
   ]
  },
  {
   "cell_type": "markdown",
   "id": "confirmed-concert",
   "metadata": {},
   "source": [
    "## Answer\n",
    "<pre><code>\n",
    "select score, dense_rank() over (order by score desc) as 'Rank' from Scores\n",
    "</code></pre>"
   ]
  },
  {
   "cell_type": "code",
   "execution_count": null,
   "id": "third-dollar",
   "metadata": {},
   "outputs": [],
   "source": []
  }
 ],
 "metadata": {
  "kernelspec": {
   "display_name": "Python 3",
   "language": "python",
   "name": "python3"
  },
  "language_info": {
   "codemirror_mode": {
    "name": "ipython",
    "version": 3
   },
   "file_extension": ".py",
   "mimetype": "text/x-python",
   "name": "python",
   "nbconvert_exporter": "python",
   "pygments_lexer": "ipython3",
   "version": "3.8.5"
  }
 },
 "nbformat": 4,
 "nbformat_minor": 5
}
