{
 "cells": [
  {
   "cell_type": "markdown",
   "id": "straight-louisville",
   "metadata": {},
   "source": [
    "\n",
    "<pre><code>\n",
    "There is a table World\n",
    "\n",
    "+-----------------+------------+------------+--------------+---------------+\n",
    "| name            | continent  | area       | population   | gdp           |\n",
    "+-----------------+------------+------------+--------------+---------------+\n",
    "| Afghanistan     | Asia       | 652230     | 25500100     | 20343000      |\n",
    "| Albania         | Europe     | 28748      | 2831741      | 12960000      |\n",
    "| Algeria         | Africa     | 2381741    | 37100000     | 188681000     |\n",
    "| Andorra         | Europe     | 468        | 78115        | 3712000       |\n",
    "| Angola          | Africa     | 1246700    | 20609294     | 100990000     |\n",
    "+-----------------+------------+------------+--------------+---------------+\n",
    "A country is big if it has an area of bigger than 3 million square km or a population of more than 25 million.\n",
    "\n",
    "Write a SQL solution to output big countries' name, population and area.\n",
    "\n",
    "For example, according to the above table, we should output:\n",
    "\n",
    "+--------------+-------------+--------------+\n",
    "| name         | population  | area         |\n",
    "+--------------+-------------+--------------+\n",
    "| Afghanistan  | 25500100    | 652230       |\n",
    "| Algeria      | 37100000    | 2381741      |\n",
    "+--------------+-------------+--------------+\n",
    "\n",
    "\n",
    "Create table If Not Exists World (name varchar(255), continent varchar(255), area int, population int, gdp int)\n",
    "Truncate table World\n",
    "insert into World (name, continent, area, population, gdp) values ('Afghanistan', 'Asia', '652230', '25500100', '20343000000')\n",
    "insert into World (name, continent, area, population, gdp) values ('Albania', 'Europe', '28748', '2831741', '12960000000')\n",
    "insert into World (name, continent, area, population, gdp) values ('Algeria', 'Africa', '2381741', '37100000', '188681000000')\n",
    "insert into World (name, continent, area, population, gdp) values ('Andorra', 'Europe', '468', '78115', '3712000000')\n",
    "insert into World (name, continent, area, population, gdp) values ('Angola', 'Africa', '1246700', '20609294', '100990000000')\n",
    "</code></pre>"
   ]
  },
  {
   "cell_type": "markdown",
   "id": "hazardous-chinese",
   "metadata": {},
   "source": [
    "## Answer\n",
    "<pre><code>\n",
    "select name, population, area from World where area >=3000000 or population>=25000000\n",
    "</code></pre>"
   ]
  },
  {
   "cell_type": "code",
   "execution_count": null,
   "id": "formed-volume",
   "metadata": {},
   "outputs": [],
   "source": []
  }
 ],
 "metadata": {
  "kernelspec": {
   "display_name": "Python 3",
   "language": "python",
   "name": "python3"
  },
  "language_info": {
   "codemirror_mode": {
    "name": "ipython",
    "version": 3
   },
   "file_extension": ".py",
   "mimetype": "text/x-python",
   "name": "python",
   "nbconvert_exporter": "python",
   "pygments_lexer": "ipython3",
   "version": "3.8.5"
  }
 },
 "nbformat": 4,
 "nbformat_minor": 5
}
