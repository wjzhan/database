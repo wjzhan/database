{
 "cells": [
  {
   "cell_type": "markdown",
   "id": "occasional-dryer",
   "metadata": {},
   "source": [
    "<pre><code>\n",
    "\n",
    "Write a SQL query to get the nth highest salary from the Employee table.\n",
    "\n",
    "+----+--------+\n",
    "| Id | Salary |\n",
    "+----+--------+\n",
    "| 1  | 100    |\n",
    "| 2  | 200    |\n",
    "| 3  | 300    |\n",
    "+----+--------+\n",
    "For example, given the above Employee table, the nth highest salary where n = 2 is 200. If there is no nth highest salary, then the query should return null.\n",
    "\n",
    "+------------------------+\n",
    "| getNthHighestSalary(2) |\n",
    "+------------------------+\n",
    "| 200                    |\n",
    "+------------------------+\n",
    "\n",
    "</code></pre>"
   ]
  },
  {
   "cell_type": "markdown",
   "id": "technological-psychology",
   "metadata": {},
   "source": [
    "## Answer\n",
    "<pre><code>\n",
    "\n",
    "CREATE FUNCTION getNthHighestSalary(N INT) RETURNS INT\n",
    "BEGIN\n",
    "  RETURN (\n",
    "      # Write your MySQL query statement below.\n",
    "      select case when max(rnk) < N then null else Salary end as getNthHighestSalary from\n",
    "      (select Salary, dense_rank() over(order by Salary desc) as rnk from Employee) A\n",
    "      where A.rnk = N\n",
    "  );\n",
    "END\n",
    "\n",
    "</code></pre>"
   ]
  }
 ],
 "metadata": {
  "kernelspec": {
   "display_name": "Python 3",
   "language": "python",
   "name": "python3"
  },
  "language_info": {
   "codemirror_mode": {
    "name": "ipython",
    "version": 3
   },
   "file_extension": ".py",
   "mimetype": "text/x-python",
   "name": "python",
   "nbconvert_exporter": "python",
   "pygments_lexer": "ipython3",
   "version": "3.8.5"
  }
 },
 "nbformat": 4,
 "nbformat_minor": 5
}
