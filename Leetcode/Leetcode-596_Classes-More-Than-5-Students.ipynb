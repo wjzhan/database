{
 "cells": [
  {
   "cell_type": "markdown",
   "id": "innocent-eight",
   "metadata": {},
   "source": [
    "\n",
    "<pre><code>\n",
    "There is a table courses with columns: student and class\n",
    "\n",
    "Please list out all classes which have more than or equal to 5 students.\n",
    "\n",
    "For example, the table:\n",
    "\n",
    "+---------+------------+\n",
    "| student | class      |\n",
    "+---------+------------+\n",
    "| A       | Math       |\n",
    "| B       | English    |\n",
    "| C       | Math       |\n",
    "| D       | Biology    |\n",
    "| E       | Math       |\n",
    "| F       | Computer   |\n",
    "| G       | Math       |\n",
    "| H       | Math       |\n",
    "| I       | Math       |\n",
    "+---------+------------+\n",
    "Should output:\n",
    "\n",
    "+---------+\n",
    "| class   |\n",
    "+---------+\n",
    "| Math    |\n",
    "+---------+\n",
    " \n",
    "\n",
    "Note:\n",
    "The students should not be counted duplicate in each course.\n",
    "\n",
    "\n",
    "\n",
    "Create table If Not Exists courses (student varchar(255), class varchar(255))\n",
    "Truncate table courses\n",
    "insert into courses (student, class) values ('A', 'Math')\n",
    "insert into courses (student, class) values ('B', 'English')\n",
    "insert into courses (student, class) values ('C', 'Math')\n",
    "insert into courses (student, class) values ('D', 'Biology')\n",
    "insert into courses (student, class) values ('E', 'Math')\n",
    "insert into courses (student, class) values ('F', 'Computer')\n",
    "insert into courses (student, class) values ('G', 'Math')\n",
    "insert into courses (student, class) values ('H', 'Math')\n",
    "insert into courses (student, class) values ('I', 'Math')\n",
    "</code></pre>"
   ]
  },
  {
   "cell_type": "markdown",
   "id": "raising-principle",
   "metadata": {},
   "source": [
    "## Answer\n",
    "<pre><code>\n",
    "select class from courses group by class having count(distinct student)>=5\n",
    "</code></pre>"
   ]
  },
  {
   "cell_type": "code",
   "execution_count": null,
   "id": "manual-natural",
   "metadata": {},
   "outputs": [],
   "source": []
  }
 ],
 "metadata": {
  "kernelspec": {
   "display_name": "Python 3",
   "language": "python",
   "name": "python3"
  },
  "language_info": {
   "codemirror_mode": {
    "name": "ipython",
    "version": 3
   },
   "file_extension": ".py",
   "mimetype": "text/x-python",
   "name": "python",
   "nbconvert_exporter": "python",
   "pygments_lexer": "ipython3",
   "version": "3.8.5"
  }
 },
 "nbformat": 4,
 "nbformat_minor": 5
}
