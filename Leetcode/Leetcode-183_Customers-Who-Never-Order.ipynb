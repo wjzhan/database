{
 "cells": [
  {
   "cell_type": "markdown",
   "id": "thirty-outline",
   "metadata": {},
   "source": [
    "<pre><code>\n",
    "\n",
    "The Employee table holds all employees including their managers. Every employee has an Id, and there is also a column for the manager Id.\n",
    "\n",
    "+----+-------+--------+-----------+\n",
    "| Id | Name  | Salary | ManagerId |\n",
    "+----+-------+--------+-----------+\n",
    "| 1  | Joe   | 70000  | 3         |\n",
    "| 2  | Henry | 80000  | 4         |\n",
    "| 3  | Sam   | 60000  | NULL      |\n",
    "| 4  | Max   | 90000  | NULL      |\n",
    "+----+-------+--------+-----------+\n",
    "Given the Employee table, write a SQL query that finds out employees who earn more than their managers. For the above table, Joe is the only employee who earns more than his manager.\n",
    "\n",
    "+----------+\n",
    "| Employee |\n",
    "+----------+\n",
    "| Joe      |\n",
    "+----------+\n",
    "\n",
    "\n",
    "Create table If Not Exists Employee (Id int, Name varchar(255), Salary int, ManagerId int)\n",
    "Truncate table Employee\n",
    "insert into Employee (Id, Name, Salary, ManagerId) values ('1', 'Joe', '70000', '3')\n",
    "insert into Employee (Id, Name, Salary, ManagerId) values ('2', 'Henry', '80000', '4')\n",
    "insert into Employee (Id, Name, Salary, ManagerId) values ('3', 'Sam', '60000', 'None')\n",
    "insert into Employee (Id, Name, Salary, ManagerId) values ('4', 'Max', '90000', 'None')\n",
    "</code></pre>"
   ]
  },
  {
   "cell_type": "markdown",
   "id": "boring-ratio",
   "metadata": {},
   "source": [
    "## Answer\n",
    "<pre><code>\n",
    "\n",
    "select A.Name as Customers from Customers A \n",
    "left join Orders B \n",
    "on A.Id = B.customerId\n",
    "where B.CustomerId is null\n",
    "\n",
    "</code></pre>"
   ]
  },
  {
   "cell_type": "code",
   "execution_count": null,
   "id": "southern-diploma",
   "metadata": {},
   "outputs": [],
   "source": []
  }
 ],
 "metadata": {
  "kernelspec": {
   "display_name": "Python 3",
   "language": "python",
   "name": "python3"
  },
  "language_info": {
   "codemirror_mode": {
    "name": "ipython",
    "version": 3
   },
   "file_extension": ".py",
   "mimetype": "text/x-python",
   "name": "python",
   "nbconvert_exporter": "python",
   "pygments_lexer": "ipython3",
   "version": "3.8.5"
  }
 },
 "nbformat": 4,
 "nbformat_minor": 5
}
