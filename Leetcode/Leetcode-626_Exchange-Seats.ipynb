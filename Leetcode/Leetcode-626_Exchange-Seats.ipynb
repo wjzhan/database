{
 "cells": [
  {
   "cell_type": "markdown",
   "id": "circular-solution",
   "metadata": {},
   "source": [
    "\n",
    "<pre><code>\n",
    "Mary is a teacher in a middle school and she has a table seat storing students' names and their corresponding seat ids.\n",
    "\n",
    "The column id is continuous increment.\n",
    "\n",
    "Mary wants to change seats for the adjacent students.\n",
    "\n",
    "Can you write a SQL query to output the result for Mary?\n",
    "\n",
    " \n",
    "\n",
    "+---------+---------+\n",
    "|    id   | student |\n",
    "+---------+---------+\n",
    "|    1    | Abbot   |\n",
    "|    2    | Doris   |\n",
    "|    3    | Emerson |\n",
    "|    4    | Green   |\n",
    "|    5    | Jeames  |\n",
    "+---------+---------+\n",
    "For the sample input, the output is:\n",
    "\n",
    "+---------+---------+\n",
    "|    id   | student |\n",
    "+---------+---------+\n",
    "|    1    | Doris   |\n",
    "|    2    | Abbot   |\n",
    "|    3    | Green   |\n",
    "|    4    | Emerson |\n",
    "|    5    | Jeames  |\n",
    "+---------+---------+\n",
    "Note:\n",
    "\n",
    "If the number of students is odd, there is no need to change the last one's seat.\n",
    "\n",
    "\n",
    "\n",
    "Create table If Not Exists seat(id int, student varchar(255))\n",
    "Truncate table seat\n",
    "insert into seat (id, student) values ('1', 'Abbot')\n",
    "insert into seat (id, student) values ('2', 'Doris')\n",
    "insert into seat (id, student) values ('3', 'Emerson')\n",
    "insert into seat (id, student) values ('4', 'Green')\n",
    "insert into seat (id, student) values ('5', 'Jeames')\n",
    "</code></pre>"
   ]
  },
  {
   "cell_type": "markdown",
   "id": "exceptional-motivation",
   "metadata": {},
   "source": [
    "## Answer\n",
    "<pre><code>\n",
    "with tmp as (select id, student, lag(student) over(order by id) as prev_s,\n",
    "lead(student) over(order by id) as after_s\n",
    "from seat) \n",
    "\n",
    "\n",
    "select id, (case when id%2 = 1 and after_s is not null then after_s\n",
    "            when id%2 = 0 then prev_s\n",
    "            else student end) as student from tmp\n",
    "</code></pre>"
   ]
  },
  {
   "cell_type": "code",
   "execution_count": null,
   "id": "statistical-connectivity",
   "metadata": {},
   "outputs": [],
   "source": []
  }
 ],
 "metadata": {
  "kernelspec": {
   "display_name": "Python 3",
   "language": "python",
   "name": "python3"
  },
  "language_info": {
   "codemirror_mode": {
    "name": "ipython",
    "version": 3
   },
   "file_extension": ".py",
   "mimetype": "text/x-python",
   "name": "python",
   "nbconvert_exporter": "python",
   "pygments_lexer": "ipython3",
   "version": "3.8.5"
  }
 },
 "nbformat": 4,
 "nbformat_minor": 5
}
