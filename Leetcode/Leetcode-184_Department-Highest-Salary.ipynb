{
 "cells": [
  {
   "cell_type": "markdown",
   "id": "hidden-diving",
   "metadata": {},
   "source": [
    "\n",
    "<pre><code>\n",
    "\n",
    "The Employee table holds all employees. Every employee has an Id, a salary, and there is also a column for the department Id.\n",
    "\n",
    "+----+-------+--------+--------------+\n",
    "| Id | Name  | Salary | DepartmentId |\n",
    "+----+-------+--------+--------------+\n",
    "| 1  | Joe   | 70000  | 1            |\n",
    "| 2  | Jim   | 90000  | 1            |\n",
    "| 3  | Henry | 80000  | 2            |\n",
    "| 4  | Sam   | 60000  | 2            |\n",
    "| 5  | Max   | 90000  | 1            |\n",
    "+----+-------+--------+--------------+\n",
    "The Department table holds all departments of the company.\n",
    "\n",
    "+----+----------+\n",
    "| Id | Name     |\n",
    "+----+----------+\n",
    "| 1  | IT       |\n",
    "| 2  | Sales    |\n",
    "+----+----------+\n",
    "Write a SQL query to find employees who have the highest salary in each of the departments. For the above tables, your SQL query should return the following rows (order of rows does not matter).\n",
    "\n",
    "+------------+----------+--------+\n",
    "| Department | Employee | Salary |\n",
    "+------------+----------+--------+\n",
    "| IT         | Max      | 90000  |\n",
    "| IT         | Jim      | 90000  |\n",
    "| Sales      | Henry    | 80000  |\n",
    "+------------+----------+--------+\n",
    "Explanation:\n",
    "\n",
    "Max and Jim both have the highest salary in the IT department and Henry has the highest salary in the Sales department.\n",
    "\n",
    "\n",
    "\n",
    "\n",
    "Create table If Not Exists Employee (Id int, Name varchar(255), Salary int, DepartmentId int)\n",
    "Create table If Not Exists Department (Id int, Name varchar(255))\n",
    "Truncate table Employee\n",
    "insert into Employee (Id, Name, Salary, DepartmentId) values ('1', 'Joe', '70000', '1')\n",
    "insert into Employee (Id, Name, Salary, DepartmentId) values ('2', 'Jim', '90000', '1')\n",
    "insert into Employee (Id, Name, Salary, DepartmentId) values ('3', 'Henry', '80000', '2')\n",
    "insert into Employee (Id, Name, Salary, DepartmentId) values ('4', 'Sam', '60000', '2')\n",
    "insert into Employee (Id, Name, Salary, DepartmentId) values ('5', 'Max', '90000', '1')\n",
    "Truncate table Department\n",
    "insert into Department (Id, Name) values ('1', 'IT')\n",
    "insert into Department (Id, Name) values ('2', 'Sales')\n",
    "</code></pre>"
   ]
  },
  {
   "cell_type": "markdown",
   "id": "norwegian-usage",
   "metadata": {},
   "source": [
    "## Answer\n",
    "<pre><code>\n",
    "\n",
    "with emp as \n",
    "(select Name, Salary, DepartmentId, \n",
    " dense_rank() over (partition by DepartmentId order by Salary desc) as 'Rank' from Employee)\n",
    "\n",
    "select A.Name as Department, B.Name as Employee, B.Salary as Salary \n",
    "from Department A inner join emp B \n",
    "on B.Rank=1 and A.Id = B.DepartmentId\n",
    "\n",
    "\n",
    "</code></pre>"
   ]
  },
  {
   "cell_type": "code",
   "execution_count": null,
   "id": "powered-painting",
   "metadata": {},
   "outputs": [],
   "source": []
  }
 ],
 "metadata": {
  "kernelspec": {
   "display_name": "Python 3",
   "language": "python",
   "name": "python3"
  },
  "language_info": {
   "codemirror_mode": {
    "name": "ipython",
    "version": 3
   },
   "file_extension": ".py",
   "mimetype": "text/x-python",
   "name": "python",
   "nbconvert_exporter": "python",
   "pygments_lexer": "ipython3",
   "version": "3.8.5"
  }
 },
 "nbformat": 4,
 "nbformat_minor": 5
}
