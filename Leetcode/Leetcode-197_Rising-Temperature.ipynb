{
 "cells": [
  {
   "cell_type": "markdown",
   "id": "grave-reading",
   "metadata": {},
   "source": [
    "<pre><code>\n",
    "\n",
    "Table: Weather\n",
    "\n",
    "+---------------+---------+\n",
    "| Column Name   | Type    |\n",
    "+---------------+---------+\n",
    "| id            | int     |\n",
    "| recordDate    | date    |\n",
    "| temperature   | int     |\n",
    "+---------------+---------+\n",
    "id is the primary key for this table.\n",
    "This table contains information about the temperature in a certain day.\n",
    " \n",
    "\n",
    "Write an SQL query to find all dates' id with higher temperature compared to its previous dates (yesterday).\n",
    "\n",
    "Return the result table in any order.\n",
    "\n",
    "The query result format is in the following example:\n",
    "\n",
    "Weather\n",
    "+----+------------+-------------+\n",
    "| id | recordDate | Temperature |\n",
    "+----+------------+-------------+\n",
    "| 1  | 2015-01-01 | 10          |\n",
    "| 2  | 2015-01-02 | 25          |\n",
    "| 3  | 2015-01-03 | 20          |\n",
    "| 4  | 2015-01-04 | 30          |\n",
    "+----+------------+-------------+\n",
    "\n",
    "Result table:\n",
    "+----+\n",
    "| id |\n",
    "+----+\n",
    "| 2  |\n",
    "| 4  |\n",
    "+----+\n",
    "In 2015-01-02, temperature was higher than the previous day (10 -> 25).\n",
    "In 2015-01-04, temperature was higher than the previous day (20 -> 30).\n",
    "\n",
    "\n",
    "\n",
    "Create table If Not Exists Weather (Id int, RecordDate date, Temperature int)\n",
    "Truncate table Weather\n",
    "insert into Weather (Id, RecordDate, Temperature) values ('1', '2015-01-01', '10')\n",
    "insert into Weather (Id, RecordDate, Temperature) values ('2', '2015-01-02', '25')\n",
    "insert into Weather (Id, RecordDate, Temperature) values ('3', '2015-01-03', '20')\n",
    "insert into Weather (Id, RecordDate, Temperature) values ('4', '2015-01-04', '30')\n",
    "</code></pre>"
   ]
  },
  {
   "cell_type": "markdown",
   "id": "harmful-hypothesis",
   "metadata": {},
   "source": [
    "## Answer\n",
    "<pre><code>\n",
    "\n",
    "select id from (\n",
    "    select id, Temperature, recordDate,\n",
    "    lag(Temperature, 1) over(order by recordDate) as prevTemp,\n",
    "    lag(recordDate, 1) over(order by recordDate) as prevDate\n",
    "    from Weather) nw \n",
    "    where Temperature > prevTemp \n",
    "    and datediff(recordDate, prevDate) = 1\n",
    "    \n",
    "</code></pre>"
   ]
  },
  {
   "cell_type": "code",
   "execution_count": null,
   "id": "shared-general",
   "metadata": {},
   "outputs": [],
   "source": []
  }
 ],
 "metadata": {
  "kernelspec": {
   "display_name": "Python 3",
   "language": "python",
   "name": "python3"
  },
  "language_info": {
   "codemirror_mode": {
    "name": "ipython",
    "version": 3
   },
   "file_extension": ".py",
   "mimetype": "text/x-python",
   "name": "python",
   "nbconvert_exporter": "python",
   "pygments_lexer": "ipython3",
   "version": "3.8.5"
  }
 },
 "nbformat": 4,
 "nbformat_minor": 5
}
