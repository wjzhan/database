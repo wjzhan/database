{
 "cells": [
  {
   "cell_type": "markdown",
   "id": "australian-morris",
   "metadata": {},
   "source": [
    "<pre><code>\n",
    "\n",
    "Table: Person\n",
    "\n",
    "+-------------+---------+\n",
    "| Column Name | Type    |\n",
    "+-------------+---------+\n",
    "| PersonId    | int     |\n",
    "| FirstName   | varchar |\n",
    "| LastName    | varchar |\n",
    "+-------------+---------+\n",
    "PersonId is the primary key column for this table.\n",
    "Table: Address\n",
    "\n",
    "+-------------+---------+\n",
    "| Column Name | Type    |\n",
    "+-------------+---------+\n",
    "| AddressId   | int     |\n",
    "| PersonId    | int     |\n",
    "| City        | varchar |\n",
    "| State       | varchar |\n",
    "+-------------+---------+\n",
    "AddressId is the primary key column for this table.\n",
    " \n",
    "\n",
    "Write a SQL query for a report that provides the following information for each person in the Person table, regardless if there is an address for each of those people:\n",
    "\n",
    "FirstName, LastName, City, State\n",
    "\n",
    "\n",
    "\n",
    "\n",
    "\n",
    "Create table Person (PersonId int, FirstName varchar(255), LastName varchar(255))\n",
    "Create table Address (AddressId int, PersonId int, City varchar(255), State varchar(255))\n",
    "Truncate table Person\n",
    "insert into Person (PersonId, LastName, FirstName) values ('1', 'Wang', 'Allen')\n",
    "Truncate table Address\n",
    "insert into Address (AddressId, PersonId, City, State) values ('1', '2', 'New York City', 'New York')\n",
    "</code></pre>"
   ]
  },
  {
   "cell_type": "markdown",
   "id": "inner-singer",
   "metadata": {},
   "source": [
    "## Answer\n",
    "<pre><code>\n",
    "\n",
    "select A.FirstName, A.LastName, B.City, B.State \n",
    "from Person A left join Address B \n",
    "on A.personId = B.PersonId\n",
    "\n",
    "</code></pre>\n"
   ]
  },
  {
   "cell_type": "code",
   "execution_count": null,
   "id": "eastern-imagination",
   "metadata": {},
   "outputs": [],
   "source": []
  }
 ],
 "metadata": {
  "kernelspec": {
   "display_name": "Python 3",
   "language": "python",
   "name": "python3"
  },
  "language_info": {
   "codemirror_mode": {
    "name": "ipython",
    "version": 3
   },
   "file_extension": ".py",
   "mimetype": "text/x-python",
   "name": "python",
   "nbconvert_exporter": "python",
   "pygments_lexer": "ipython3",
   "version": "3.8.5"
  }
 },
 "nbformat": 4,
 "nbformat_minor": 5
}
